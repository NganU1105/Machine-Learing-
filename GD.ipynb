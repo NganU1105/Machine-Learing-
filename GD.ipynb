{
 "cells": [
  {
   "cell_type": "markdown",
   "id": "ec7a838e",
   "metadata": {},
   "source": [
    "f(ngan) = x^2 + 8 sin(x) "
   ]
  },
  {
   "cell_type": "markdown",
   "id": "72b61e4b",
   "metadata": {},
   "source": [
    "f'(ngan) = 2x + 8cos(x)"
   ]
  },
  {
   "cell_type": "code",
   "execution_count": 4,
   "id": "12b03f62",
   "metadata": {},
   "outputs": [],
   "source": [
    "from __future__ import division, print_function, unicode_literals\n",
    "import math\n",
    "import numpy as np\n",
    "import matplotlib.pyplot as plt"
   ]
  },
  {
   "cell_type": "code",
   "execution_count": 8,
   "id": "b1b16553",
   "metadata": {},
   "outputs": [
    {
     "name": "stdout",
     "output_type": "stream",
     "text": [
      "Solution x1 = -1.252524, cost = -6.029403, obtained after 6 iterations\n",
      "Solution x2 = 3.595536, cost = 9.419776, obtained after 10 iterations\n"
     ]
    }
   ],
   "source": [
    "def GD(grad, x0, eta):\n",
    "    x = [x0]\n",
    "    for it in range(100):\n",
    "        x_new = x[-1] - eta*grad(x[-1])\n",
    "        if np.linalg.norm(grad(x_new))/np.array(x0).size < 1e-3:\n",
    "            break\n",
    "        x.append(x_new)\n",
    "    return x\n",
    "\n",
    "def GD_momentum(grad, theta_init, eta, gamma):\n",
    "    # Suppose we want to store history of theta\n",
    "    theta = [theta_init]\n",
    "    v_old = np.zeros_like(theta_init)\n",
    "    for it in range(100):\n",
    "        v_new = gamma*v_old + eta*grad(theta[-1])\n",
    "        theta_new = theta[-1] - v_new\n",
    "        if np.linalg.norm(grad(theta_new))/np.array(theta_init).size < 1e-3:\n",
    "            break\n",
    "        theta.append(theta_new)\n",
    "        v_old = v_new\n",
    "    return theta \n",
    "\n",
    "def GD_NAG(grad, theta_init, eta, gamma):\n",
    "    theta = [theta_init]\n",
    "    v = [np.zeros_like(theta_init)]\n",
    "    for it in range(100):\n",
    "        v_new = gamma*v[-1] + eta*grad(theta[-1] - gamma*v[-1])\n",
    "        theta_new = theta[-1] - v_new\n",
    "        if np.linalg.norm(grad(theta_new))/np.array(theta_init).size < 1e-3:\n",
    "            break\n",
    "        theta.append(theta_new)\n",
    "        v.append(v_new)\n",
    "    return theta\n",
    "\n",
    "def grad(x):\n",
    "    return 2*x + 8*np.cos(x)\n",
    "def cost(x): \n",
    "    return x**2 + 8*np.sin(x)\n",
    "\n",
    "x1 = GD(grad, -5, .1)\n",
    "x2 = GD(grad, 5, .1)\n",
    "print('Solution x1 = %f, cost = %f, obtained after %d iterations'%(x1[-1], cost(x1[-1]), len(x1)))\n",
    "print('Solution x2 = %f, cost = %f, obtained after %d iterations'%(x2[-1], cost(x2[-1]), len(x2)))"
   ]
  },
  {
   "cell_type": "code",
   "execution_count": null,
   "id": "a3639d11",
   "metadata": {},
   "outputs": [],
   "source": []
  }
 ],
 "metadata": {
  "kernelspec": {
   "display_name": "Python 3 (ipykernel)",
   "language": "python",
   "name": "python3"
  },
  "language_info": {
   "codemirror_mode": {
    "name": "ipython",
    "version": 3
   },
   "file_extension": ".py",
   "mimetype": "text/x-python",
   "name": "python",
   "nbconvert_exporter": "python",
   "pygments_lexer": "ipython3",
   "version": "3.9.12"
  }
 },
 "nbformat": 4,
 "nbformat_minor": 5
}
